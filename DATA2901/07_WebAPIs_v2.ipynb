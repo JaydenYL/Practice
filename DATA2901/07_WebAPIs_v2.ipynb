{
 "cells": [
  {
   "cell_type": "markdown",
   "metadata": {},
   "source": [
    "# Tutorial Wk 7: Using Web APIs with JSON and XML to gather data\n",
    "\n",
    "## Introduction\n",
    "In this tutorial, we will continue looking at methods to gather data from Web-based sources - particularly from Web API's.\n",
    "The common source formats will be JSON or XML."
   ]
  },
  {
   "cell_type": "markdown",
   "metadata": {},
   "source": [
    "# A review of Scraping Data from a Website\n",
    "\n",
    "Last week we used Python to scrape data from the convict records website: https://convictrecords.com.au\n",
    "\n",
    "We introduced the following Python libraries:\n",
    "- **Request**         for interacting with websites and web services\n",
    "- **Beautiful Soup**  for webpage parsing\n",
    "\n",
    "For more documentation about functions available in BautifulSoup, see here:\n",
    "https://www.crummy.com/software/BeautifulSoup/bs4/doc/\n",
    "\n",
    "We then stored the retrieved data in CSV format and inside a DBMS.\n"
   ]
  },
  {
   "cell_type": "markdown",
   "metadata": {
    "collapsed": true,
    "scrolled": true
   },
   "source": [
    "# EXERCISE 1: Using Web APIs\n",
    "\n",
    "In this excersize, we are looking at some examples on how to access web APIs which are specifically provided for program to retrieve data. The advantage is that the data is well defined - no distracting HTML tags in between.\n",
    "\n",
    "But the services uses two different formats - either JSON or XML.\n",
    "\n",
    "For **JSON**, we will use the standard language support in Python and its **request** library.<br>\n",
    "For **XML**, we will use the **lxml** parser library.\n",
    "\n",
    "### Example 1: U.S. Government Website Analytic API\n",
    "\n",
    "First some JSON example from the U.S. government website analytics:"
   ]
  },
  {
   "cell_type": "code",
   "execution_count": 1,
   "metadata": {},
   "outputs": [
    {
     "name": "stdout",
     "output_type": "stream",
     "text": [
      "52726\n"
     ]
    }
   ],
   "source": [
    "# The number of people who visited a U.S. government website using Internet Explorer 6.0 in the last 90 days\n",
    "import requests\n",
    "response = requests.get(\"https://analytics.usa.gov/data/live/ie.json\")\n",
    "print(response.json()['totals']['ie_version']['6.0'])"
   ]
  },
  {
   "cell_type": "markdown",
   "metadata": {},
   "source": [
    "Ouch - Internet Explorer 6.0 which was release in 2001 seems still in use in 2020...\n",
    "\n",
    "Which version of Internet Explorer is used most at this moment when contacting the U.S. government website. For this, we need to look at the actual JSON response. For this it is helpful to have a 'pretty-print' of the corresponding JSON data which is returned by the analytics.use.gov website. The Python **json** library can do this for us:"
   ]
  },
  {
   "cell_type": "code",
   "execution_count": 2,
   "metadata": {},
   "outputs": [
    {
     "name": "stdout",
     "output_type": "stream",
     "text": [
      "{\n",
      "    \"meta\": {\n",
      "        \"description\": \"90 days of visits from Internet Explorer users broken down by version for all sites. (>100 sessions)\",\n",
      "        \"name\": \"Internet Explorer\"\n",
      "    },\n",
      "    \"name\": \"ie\",\n",
      "    \"query\": {\n",
      "        \"dimensions\": \"ga:date,ga:browserVersion\",\n",
      "        \"end-date\": \"yesterday\",\n",
      "        \"filters\": \"ga:browser==Internet Explorer;ga:sessions>10\",\n",
      "        \"max-results\": 10000,\n",
      "        \"metrics\": [\n",
      "            \"ga:sessions\"\n",
      "        ],\n",
      "        \"samplingLevel\": \"HIGHER_PRECISION\",\n",
      "        \"sort\": [\n",
      "            \"ga:date\",\n",
      "            \"-ga:sessions\"\n",
      "        ],\n",
      "        \"start-date\": \"90daysAgo\",\n",
      "        \"start-index\": 1\n",
      "    },\n",
      "    \"sampling\": {\n",
      "        \"containsSampledData\": false\n",
      "    },\n",
      "    \"taken_at\": \"2020-05-11T10:00:06.440Z\",\n",
      "    \"totals\": {\n",
      "        \"ie_version\": {\n",
      "            \"10.0\": 527085,\n",
      "            \"10.6\": 26125,\n",
      "            \"11.0\": 235643989,\n",
      "            \"11.0.37\": 1066,\n",
      "            \"11.0.38\": 1062,\n",
      "            \"11.0.39\": 1075,\n",
      "            \"4.0\": 11,\n",
      "            \"4.01\": 39,\n",
      "            \"5.0\": 7127,\n",
      "            \"6.0\": 52726,\n",
      "            \"7.0\": 21610632,\n",
      "            \"8.0\": 953265,\n",
      "            \"9.0\": 594923,\n",
      "            \"9.10\": 12,\n",
      "            \"9.11\": 35\n",
      "        },\n",
      "        \"visits\": 259419172\n",
      "    }\n",
      "}\n"
     ]
    }
   ],
   "source": [
    "# The raw response from the U.S. government website\n",
    "import requests\n",
    "response = requests.get(\"https://analytics.usa.gov/data/live/ie.json\")\n",
    "\n",
    "import json\n",
    "print(json.dumps(response.json(), indent=4, sort_keys=True))"
   ]
  },
  {
   "cell_type": "markdown",
   "metadata": {},
   "source": [
    "From above's data, it seems that IE version 11.0 is currently the most popular version of internet explorer used.\n",
    "<br>Amazingly, there are apparently still a few visits with IE 4.0 though..."
   ]
  },
  {
   "cell_type": "markdown",
   "metadata": {},
   "source": [
    "### Example 2: ABS Population Clock API\n",
    "\n",
    "The Australian Bureau of Statistics provides the following web API os a *Population Clock Web Service* which gives some statistics about the current Australian population. The meaning of the various fields are explained here: http://www.abs.gov.au/AUSSTATS/abs@.nsf/Latestproducts/1420.0.55.001Main%20Features2User%20Guide?opendocument&tabname=Summary&prodno=1420.0.55.001&issue=User%20Guide&num=&view="
   ]
  },
  {
   "cell_type": "code",
   "execution_count": 3,
   "metadata": {},
   "outputs": [
    {
     "name": "stdout",
     "output_type": "stream",
     "text": [
      "{\n",
      "    \"attribution\": \"Australian Bureau of Statistics\",\n",
      "    \"birthRate\": \"1 minute and 44 seconds\",\n",
      "    \"copyRight\": \"Copyright Commonwealth of Australia\",\n",
      "    \"deathRate\": \"3 minutes and 11 seconds\",\n",
      "    \"growthRate\": \"1 minute and 27 seconds\",\n",
      "    \"overseasMigrationRate\": \"2 minutes and 23 seconds\",\n",
      "    \"popNow\": \"25685249\",\n",
      "    \"projectionStartDate\": \"30 September 2019\",\n",
      "    \"rateSecond\": \"87.70624797184293951723\",\n",
      "    \"source\": \"Australian Demographic Statistics, September Quarter 2019 (cat. no. 3101.0)\",\n",
      "    \"sourceURL\": \"https://www.abs.gov.au/ausstats/abs@.nsf/mf/3101.0\",\n",
      "    \"timeStamp\": \"12 May 2020 11:26:57 AEST\"\n",
      "}\n",
      "Current population in Australia: 25685249\n"
     ]
    }
   ],
   "source": [
    "import requests\n",
    "import json\n",
    "response = requests.get(\"http://www.abs.gov.au/api/demography/populationprojection\")\n",
    "print(json.dumps(response.json(), indent=4, sort_keys=True))\n",
    "\n",
    "population = response.json()['popNow']\n",
    "print(\"Current population in Australia: \"+str(population))"
   ]
  },
  {
   "cell_type": "markdown",
   "metadata": {},
   "source": [
    "### Example 3: Map APIs\n",
    "Here's another example with parameters send to a web service:\n",
    "\n",
    "There are several MAP API systems that allow you to convert a location address to a GPS location (and some information more). The most popular of these is Google's Maps Platform. However, this underwent an access change in June 2018 which means that it is now requires an API key and associated billing information.\n",
    "\n",
    "So instead, we will be using the Open Street Maps project at https://www.openstreetmap.org. \n",
    "Note that this service does have however a restriction of 1 API call per second. \n",
    "The following example looks up the GPS location of the School of IT building at \"1 Cleveland Street, Darlington, Australia\":"
   ]
  },
  {
   "cell_type": "code",
   "execution_count": null,
   "metadata": {},
   "outputs": [],
   "source": [
    "# Lookup of a given address via Open Street Maps Wep-API:\n",
    "import requests\n",
    "import time\n",
    "import random\n",
    "import pprint\n",
    "\n",
    "def waitrequest(base_url, my_params):\n",
    "    # wait 5 second before we make the request, ideally we can prevent too many requests this way \n",
    "    # if we do too many requests, the whole uni's IP range can be locked out!\n",
    "    classsize = 25\n",
    "    sleeptime = random.randint(1,classsize)\n",
    "    print(\"waiting for \"+str(sleeptime)+\" seconds based on a class size of \"+str(classsize))\n",
    "    time.sleep(sleeptime)\n",
    "    return requests.get(base_url, params = my_params)\n",
    "\n",
    "base_url = 'https://nominatim.openstreetmap.org/search'\n",
    "my_params= {'q': '1 Cleveland Street,Darlington,Australia','format':'json','polygon' : 1, 'addressdetails': 1 }\n",
    "\n",
    "response = waitrequest(base_url, my_params)\n",
    "results  = response.json()\n",
    "if (results):\n",
    "    # Check what the results look like\n",
    "    print(\"This is what the response looks like:\")\n",
    "    pprint.pprint(results)\n",
    "    if (len(results) > 0):\n",
    "        x_geo    = results[0]\n",
    "        print(\"Here is the Longitude and Latitude of our school:\")\n",
    "        print(x_geo['lon'], x_geo['lat'])\n",
    "else:\n",
    "    print(\"no results\")"
   ]
  },
  {
   "cell_type": "markdown",
   "metadata": {},
   "source": [
    "## YOUR TASK: Retrieve Geo-Location of Arrival Ports of Convict Ship 'Adelaide'\n",
    " - Where lies 'Van Diemen's Land'?<br>\n",
    "   Use the Open Street Maps Web-API to check for the *GPS location* of the landing locations of the first voyage of the convict transportation ship \"Adelaide\" (cf. Exercise 1b): **Port Phillip** and **Van Diemen's Land**\n",
    " - Also retrieve the 'boundingbox'.<br>\n",
    "   For this you might need to inspect first how the JSON response is structured: Do hence first a pretty-print of the corresponding JSON response data.\n",
    " - Tip: if you want to see a map for a given GPS location, try: https://www.latlong.net/\n",
    " - Discuss: How would you store this information in your relational database next to the passenger list information?"
   ]
  },
  {
   "cell_type": "code",
   "execution_count": null,
   "metadata": {},
   "outputs": [],
   "source": [
    "# TODO: replace the content of this cell with your Python solution\n",
    "## You might have to use the more generic API for your request\n",
    "## my_q1_params= {'q': 'Port Phillip','format':'json'}\n",
    "## my_q2_params= {'q': 'Van Diemen's Land','format':'json'}\n",
    "\n",
    "## remember that you should always have a wait time so use the waitrequest() function to make a request.\n",
    "\n",
    "raise NotImplementedError"
   ]
  },
  {
   "cell_type": "markdown",
   "metadata": {},
   "source": [
    "### Example 4: Web API returning XML\n",
    "\n",
    "Some web APIs return data in **XML** format.\n",
    "The easiest library to work with such kind of data in Python is called **lxml**.\n",
    "Its documentation can be found here:<br>\n",
    "http://lxml.de"
   ]
  },
  {
   "cell_type": "code",
   "execution_count": null,
   "metadata": {},
   "outputs": [],
   "source": [
    "###### In the \"Justice News\" RSS feed maintained by the Justice Department, the number of items published on a Friday\n",
    "from datetime import datetime\n",
    "from lxml import etree\n",
    "import requests\n",
    "url = 'https://www.justice.gov/feeds/opa/justice-news.xml'\n",
    "news= requests.get(url).content\n",
    "doc = etree.fromstring(requests.get(url).content)\n",
    "items = doc.xpath('//channel/item')\n",
    "\n",
    "# how many news items on last Friday?\n",
    "dates = [item.find('pubDate').text.strip() for item in items]\n",
    "ts = [datetime.strptime(d[0:16], \"%a, %d %b %Y\") for d in dates]\n",
    "# for weekday(), 4 correspond to Friday\n",
    "print(len([t for t in ts if t.weekday() == 4]))\n",
    "\n",
    "# which news items were this\n",
    "titles = [item.find('title').text for item in items]\n",
    "titles_df = pd.DataFrame(titles, columns=['Titles'])\n",
    "titles_df"
   ]
  },
  {
   "cell_type": "markdown",
   "metadata": {},
   "source": [
    "### Example 5: GitHub API and using Pandas for JSON data\n",
    "Some final more complex example, extracting some information from the meta-data of a GitHub repository.\n",
    "\n",
    "This is also an example of how to use the Pandas library to work with JSON data."
   ]
  },
  {
   "cell_type": "code",
   "execution_count": null,
   "metadata": {},
   "outputs": [],
   "source": [
    "# From the lecture slides: list of programming languages used in PostgreSQL for the last 5 updated repositories according to GitHub repositories\n",
    "import requests\n",
    "import pandas as pd\n",
    "\n",
    "base_url = 'https://api.github.com/users/postgres/repos'\n",
    "response = requests.get(base_url)\n",
    "\n",
    "df = pd.read_json(response.text)\n",
    "\n",
    "df.sort_values(by='updated_at', ascending=False, inplace=True)\n",
    "df[['name','language','updated_at']].head(5)"
   ]
  },
  {
   "cell_type": "markdown",
   "metadata": {},
   "source": [
    "## Further Web API References\n",
    "\n",
    "If you are further interested in exploring some web APIs, have a look at the following lists:\n",
    "\n",
    "101 Data Journalist Challenges\n",
    "https://github.com/stanfordjournalism/search-script-scrape\n",
    "\n",
    "Tutorial on how to use New York Times API (needs registration with NYT)\n",
    "https://stanford.edu/~vbauer/teaching/nyt.html\n",
    "\n",
    "NSW Public Transport Events (needs registration)\n",
    "https://opendata.transport.nsw.gov.au/dataset/public-transport-realtime-alerts-0\n",
    "\n",
    "Twitter web API (needs registration):\n",
    "https://developer.twitter.com/en/docs/basics/getting-started\n",
    "\n",
    "Canvas Web API (needs an API key for cURL access): \n",
    "https://canvas.instructure.com/doc/api/"
   ]
  },
  {
   "cell_type": "markdown",
   "metadata": {},
   "source": [
    "# Assignment\n",
    "\n",
    "In Week 8 (after the break) you will be issued the group assignment for this course. There are some administrative tasks for the assignment that we started already last week's tutorial which we will follow up now, as well as some hints that can be provided regarding the content of the assignment.\n",
    "\n",
    "## Exercise 1: Forming Groups\n",
    "\n",
    "Form an assignment group of size 2-3 with other students who are commonly in your dual tutorial class.\n",
    "Then register your group in Canvas under DATA2001 -> People -> Project Groups.\n",
    "Make sure you only form a group in your assigned dual tutorial class.\n",
    "If you are looking for a group, you can make an advertisement on ed using the 'Looking for Group' topics heading.\n",
    "\n",
    "## Assignment Hints\n",
    "\n",
    "The are three primary components to the assignment:\n",
    "1. Data integration from multiple sources\n",
    "1. Using the integrated data to generate a model / metric\n",
    "1. Writing a report based on some analysis using your model / metric\n",
    "\n",
    "The data integration component is likely to involve the following tasks:\n",
    "1. As a starting point, we will provide you with a few initial data sets (in CSV format)\n",
    "    2. You will have to load those datasets into your postgresql database\n",
    "1. We will also provide some links to some GeoData (which will be covered in week 9)\n",
    "1. You will have to load this GeoData into your postgresql database as well (the university server accounts you have been given should handle GIS data)\n",
    "1. We will then give you a model or a metric to calculate based on the data you have been provided\n",
    "1. You will have to augment the data for the model by gathering extra data from other sources using the Web scraping techniques from last week and the WebAPI access techniques from today's tutorial.\n",
    "\n",
    "Once you have a working model/metric, we will ask that you prepare a report based on analysing some statistics"
   ]
  },
  {
   "cell_type": "markdown",
   "metadata": {},
   "source": [
    "# References\n",
    "\n",
    "Books:\n",
    "- Seppe van den Broucke and Bart Baesens: \"Practical Web Scraping for Data Science\", Springer 2018. (available electroinically via USYD library)"
   ]
  },
  {
   "cell_type": "markdown",
   "metadata": {},
   "source": [
    "# End of Tutorial. Many Thanks."
   ]
  }
 ],
 "metadata": {
  "kernelspec": {
   "display_name": "Python 3",
   "language": "python",
   "name": "python3"
  },
  "language_info": {
   "codemirror_mode": {
    "name": "ipython",
    "version": 3
   },
   "file_extension": ".py",
   "mimetype": "text/x-python",
   "name": "python",
   "nbconvert_exporter": "python",
   "pygments_lexer": "ipython3",
   "version": "3.7.4"
  }
 },
 "nbformat": 4,
 "nbformat_minor": 1
}
